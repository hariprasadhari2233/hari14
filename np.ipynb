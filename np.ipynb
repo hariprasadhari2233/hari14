#Create numpy arrays
import numpy as np
arr = np.array([1,2,3,4,5,6,7,8,9,11,18,22])
print(arr)
